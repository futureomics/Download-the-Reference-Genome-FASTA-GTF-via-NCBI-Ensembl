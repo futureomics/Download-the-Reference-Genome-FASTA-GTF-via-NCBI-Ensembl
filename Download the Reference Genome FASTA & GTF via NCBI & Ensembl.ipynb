{
  "nbformat": 4,
  "nbformat_minor": 0,
  "metadata": {
    "colab": {
      "provenance": []
    },
    "kernelspec": {
      "name": "python3",
      "display_name": "Python 3"
    },
    "language_info": {
      "name": "python"
    },
    "widgets": {
      "application/vnd.jupyter.widget-state+json": {
        "1afe0dacd882474d8288909763c42a19": {
          "model_module": "@jupyter-widgets/controls",
          "model_name": "DropdownModel",
          "model_module_version": "1.5.0",
          "state": {
            "_dom_classes": [],
            "_model_module": "@jupyter-widgets/controls",
            "_model_module_version": "1.5.0",
            "_model_name": "DropdownModel",
            "_options_labels": [
              "Human (GRCh38)",
              "Mouse (GRCm39)",
              "Guinea Pig (Cavpor3.0)"
            ],
            "_view_count": null,
            "_view_module": "@jupyter-widgets/controls",
            "_view_module_version": "1.5.0",
            "_view_name": "DropdownView",
            "description": "Species:",
            "description_tooltip": null,
            "disabled": false,
            "index": 2,
            "layout": "IPY_MODEL_f82c9170917e4a04a1586a77db3c31e7",
            "style": "IPY_MODEL_0d5a4da3508849d1a8ce9a310d2e0bad"
          }
        },
        "f82c9170917e4a04a1586a77db3c31e7": {
          "model_module": "@jupyter-widgets/base",
          "model_name": "LayoutModel",
          "model_module_version": "1.2.0",
          "state": {
            "_model_module": "@jupyter-widgets/base",
            "_model_module_version": "1.2.0",
            "_model_name": "LayoutModel",
            "_view_count": null,
            "_view_module": "@jupyter-widgets/base",
            "_view_module_version": "1.2.0",
            "_view_name": "LayoutView",
            "align_content": null,
            "align_items": null,
            "align_self": null,
            "border": null,
            "bottom": null,
            "display": null,
            "flex": null,
            "flex_flow": null,
            "grid_area": null,
            "grid_auto_columns": null,
            "grid_auto_flow": null,
            "grid_auto_rows": null,
            "grid_column": null,
            "grid_gap": null,
            "grid_row": null,
            "grid_template_areas": null,
            "grid_template_columns": null,
            "grid_template_rows": null,
            "height": null,
            "justify_content": null,
            "justify_items": null,
            "left": null,
            "margin": null,
            "max_height": null,
            "max_width": null,
            "min_height": null,
            "min_width": null,
            "object_fit": null,
            "object_position": null,
            "order": null,
            "overflow": null,
            "overflow_x": null,
            "overflow_y": null,
            "padding": null,
            "right": null,
            "top": null,
            "visibility": null,
            "width": null
          }
        },
        "0d5a4da3508849d1a8ce9a310d2e0bad": {
          "model_module": "@jupyter-widgets/controls",
          "model_name": "DescriptionStyleModel",
          "model_module_version": "1.5.0",
          "state": {
            "_model_module": "@jupyter-widgets/controls",
            "_model_module_version": "1.5.0",
            "_model_name": "DescriptionStyleModel",
            "_view_count": null,
            "_view_module": "@jupyter-widgets/base",
            "_view_module_version": "1.2.0",
            "_view_name": "StyleView",
            "description_width": ""
          }
        },
        "170c079df02b4dad94414faf385a79ad": {
          "model_module": "@jupyter-widgets/controls",
          "model_name": "ButtonModel",
          "model_module_version": "1.5.0",
          "state": {
            "_dom_classes": [],
            "_model_module": "@jupyter-widgets/controls",
            "_model_module_version": "1.5.0",
            "_model_name": "ButtonModel",
            "_view_count": null,
            "_view_module": "@jupyter-widgets/controls",
            "_view_module_version": "1.5.0",
            "_view_name": "ButtonView",
            "button_style": "",
            "description": "Download Reference Files",
            "disabled": false,
            "icon": "",
            "layout": "IPY_MODEL_0db845ea80bb42fd860dd038387d800d",
            "style": "IPY_MODEL_6a552573f1c646b0b640062338cab5e9",
            "tooltip": ""
          }
        },
        "0db845ea80bb42fd860dd038387d800d": {
          "model_module": "@jupyter-widgets/base",
          "model_name": "LayoutModel",
          "model_module_version": "1.2.0",
          "state": {
            "_model_module": "@jupyter-widgets/base",
            "_model_module_version": "1.2.0",
            "_model_name": "LayoutModel",
            "_view_count": null,
            "_view_module": "@jupyter-widgets/base",
            "_view_module_version": "1.2.0",
            "_view_name": "LayoutView",
            "align_content": null,
            "align_items": null,
            "align_self": null,
            "border": null,
            "bottom": null,
            "display": null,
            "flex": null,
            "flex_flow": null,
            "grid_area": null,
            "grid_auto_columns": null,
            "grid_auto_flow": null,
            "grid_auto_rows": null,
            "grid_column": null,
            "grid_gap": null,
            "grid_row": null,
            "grid_template_areas": null,
            "grid_template_columns": null,
            "grid_template_rows": null,
            "height": null,
            "justify_content": null,
            "justify_items": null,
            "left": null,
            "margin": null,
            "max_height": null,
            "max_width": null,
            "min_height": null,
            "min_width": null,
            "object_fit": null,
            "object_position": null,
            "order": null,
            "overflow": null,
            "overflow_x": null,
            "overflow_y": null,
            "padding": null,
            "right": null,
            "top": null,
            "visibility": null,
            "width": null
          }
        },
        "6a552573f1c646b0b640062338cab5e9": {
          "model_module": "@jupyter-widgets/controls",
          "model_name": "ButtonStyleModel",
          "model_module_version": "1.5.0",
          "state": {
            "_model_module": "@jupyter-widgets/controls",
            "_model_module_version": "1.5.0",
            "_model_name": "ButtonStyleModel",
            "_view_count": null,
            "_view_module": "@jupyter-widgets/base",
            "_view_module_version": "1.2.0",
            "_view_name": "StyleView",
            "button_color": null,
            "font_weight": ""
          }
        }
      }
    }
  },
  "cells": [
    {
      "cell_type": "markdown",
      "source": [
        "\n",
        "# **`Download the Reference Genome FASTA & GTF via NCBI & Ensembl`** using Python Google Colab\n",
        "GENCODE : https://www.gencodegenes.org/\n",
        "Ensembl: https://asia.ensembl.org/info/data/ftp/index.html\n",
        "\n",
        "\n",
        "📺 Stay Connected\n",
        "\n",
        "👉 For more tutorials and omics-related content, follow Future Omics on YouTube! 🔗 Follow like, share, and subscribe https://www.youtube.com/@Bioinformatics_Made_Easy 🎥✨"
      ],
      "metadata": {
        "id": "8l1F6fDE2rWC"
      }
    },
    {
      "cell_type": "code",
      "source": [
        "import ipywidgets as widgets\n",
        "from IPython.display import display\n",
        "import urllib.request, os\n",
        "\n",
        "# Predefined dictionary of species and assemblies\n",
        "assemblies = {\n",
        "    \"Human (GRCh38)\": {\n",
        "        \"fasta\": \"ftp://ftp.ensembl.org/pub/release-106/fasta/homo_sapiens/dna/Homo_sapiens.GRCh38.dna.primary_assembly.fa.gz\",\n",
        "        \"gtf\":   \"ftp://ftp.ensembl.org/pub/release-106/gtf/homo_sapiens/Homo_sapiens.GRCh38.106.gtf.gz\"\n",
        "    },\n",
        "    \"Mouse (GRCm39)\": {\n",
        "        \"fasta\": \"ftp://ftp.ensembl.org/pub/release-106/fasta/mus_musculus/dna/Mus_musculus.GRCm39.dna.primary_assembly.fa.gz\",\n",
        "        \"gtf\":   \"ftp://ftp.ensembl.org/pub/release-106/gtf/mus_musculus/Mus_musculus.GRCm39.106.gtf.gz\"\n",
        "    },\n",
        "    \"Guinea Pig (Cavpor3.0)\": {\n",
        "        \"fasta\": \"ftp://ftp.ensembl.org/pub/release-106/fasta/cavia_porcellus/dna/Cavia_porcellus.Cavpor3.0.dna.toplevel.fa.gz\",\n",
        "        \"gtf\":   \"ftp://ftp.ensembl.org/pub/release-106/gtf/cavia_porcellus/Cavia_porcellus.Cavpor3.0.106.gtf.gz\"\n",
        "    }\n",
        "}\n",
        "\n",
        "# Dropdown menu\n",
        "species_dropdown = widgets.Dropdown(\n",
        "    options=list(assemblies.keys()),\n",
        "    value=\"Guinea Pig (Cavpor3.0)\",\n",
        "    description=\"Species:\"\n",
        ")\n",
        "\n",
        "download_button = widgets.Button(description=\"Download Reference Files\")\n",
        "\n",
        "def download_files(b):\n",
        "    choice = assemblies[species_dropdown.value]\n",
        "    out_dir = \"reference_downloads\"\n",
        "    os.makedirs(out_dir, exist_ok=True)\n",
        "\n",
        "    for ftype, url in choice.items():\n",
        "        filename = os.path.join(out_dir, os.path.basename(url))\n",
        "        print(f\"Downloading {ftype} from {url} ...\")\n",
        "        urllib.request.urlretrieve(url, filename)\n",
        "        print(f\"Saved to {filename}\")\n",
        "\n",
        "download_button.on_click(download_files)\n",
        "\n",
        "display(species_dropdown, download_button)\n"
      ],
      "metadata": {
        "colab": {
          "base_uri": "https://localhost:8080/",
          "height": 81,
          "referenced_widgets": [
            "1afe0dacd882474d8288909763c42a19",
            "f82c9170917e4a04a1586a77db3c31e7",
            "0d5a4da3508849d1a8ce9a310d2e0bad",
            "170c079df02b4dad94414faf385a79ad",
            "0db845ea80bb42fd860dd038387d800d",
            "6a552573f1c646b0b640062338cab5e9"
          ]
        },
        "id": "yqLlKgiv8-4I",
        "outputId": "844ff248-660f-4d0a-e573-dd80c83b7497"
      },
      "execution_count": null,
      "outputs": [
        {
          "output_type": "display_data",
          "data": {
            "text/plain": [
              "Dropdown(description='Species:', index=2, options=('Human (GRCh38)', 'Mouse (GRCm39)', 'Guinea Pig (Cavpor3.0)…"
            ],
            "application/vnd.jupyter.widget-view+json": {
              "version_major": 2,
              "version_minor": 0,
              "model_id": "1afe0dacd882474d8288909763c42a19"
            }
          },
          "metadata": {}
        },
        {
          "output_type": "display_data",
          "data": {
            "text/plain": [
              "Button(description='Download Reference Files', style=ButtonStyle())"
            ],
            "application/vnd.jupyter.widget-view+json": {
              "version_major": 2,
              "version_minor": 0,
              "model_id": "170c079df02b4dad94414faf385a79ad"
            }
          },
          "metadata": {}
        }
      ]
    },
    {
      "cell_type": "code",
      "execution_count": null,
      "metadata": {
        "colab": {
          "base_uri": "https://localhost:8080/"
        },
        "id": "173vvDz9VWLB",
        "outputId": "f832c47c-91a8-43ca-ff28-5da95a290de1"
      },
      "outputs": [
        {
          "output_type": "stream",
          "name": "stdout",
          "text": [
            "--2025-09-12 05:50:05--  ftp://ftp.ensembl.org/pub/release-106/fasta/cavia_porcellus/dna/Cavia_porcellus.Cavpor3.0.dna.toplevel.fa.gz\n",
            "           => ‘Cavia_porcellus.Cavpor3.0.dna.toplevel.fa.gz.1’\n",
            "Resolving ftp.ensembl.org (ftp.ensembl.org)... 193.62.193.169\n",
            "Connecting to ftp.ensembl.org (ftp.ensembl.org)|193.62.193.169|:21... connected.\n",
            "Logging in as anonymous ... Logged in!\n",
            "==> SYST ... done.    ==> PWD ... done.\n",
            "==> TYPE I ... done.  ==> CWD (1) /pub/release-106/fasta/cavia_porcellus/dna ... done.\n",
            "==> SIZE Cavia_porcellus.Cavpor3.0.dna.toplevel.fa.gz ... 815064772\n",
            "==> PASV ... done.    ==> RETR Cavia_porcellus.Cavpor3.0.dna.toplevel.fa.gz ... done.\n",
            "Length: 815064772 (777M) (unauthoritative)\n",
            "\n",
            "Cavia_porcellus.Cav 100%[===================>] 777.31M  31.3MB/s    in 27s     \n",
            "\n",
            "2025-09-12 05:50:34 (29.3 MB/s) - ‘Cavia_porcellus.Cavpor3.0.dna.toplevel.fa.gz.1’ saved [815064772]\n",
            "\n"
          ]
        }
      ],
      "source": [
        "!wget ftp://ftp.ensembl.org/pub/release-106/fasta/cavia_porcellus/dna/Cavia_porcellus.Cavpor3.0.dna.toplevel.fa.gz"
      ]
    },
    {
      "cell_type": "code",
      "source": [
        "!wget ftp://ftp.ensembl.org/pub/release-106/gtf/cavia_porcellus/Cavia_porcellus.Cavpor3.0.106.gtf.gz"
      ],
      "metadata": {
        "colab": {
          "base_uri": "https://localhost:8080/"
        },
        "id": "pDjf2mwy2VC6",
        "outputId": "9623294d-4e25-4334-bfd7-5dc048d8eccf"
      },
      "execution_count": null,
      "outputs": [
        {
          "output_type": "stream",
          "name": "stdout",
          "text": [
            "--2025-09-12 07:35:06--  ftp://ftp.ensembl.org/pub/release-106/gtf/cavia_porcellus/Cavia_porcellus.Cavpor3.0.106.gtf.gz\n",
            "           => ‘Cavia_porcellus.Cavpor3.0.106.gtf.gz’\n",
            "Resolving ftp.ensembl.org (ftp.ensembl.org)... 193.62.193.169\n",
            "Connecting to ftp.ensembl.org (ftp.ensembl.org)|193.62.193.169|:21... connected.\n",
            "Logging in as anonymous ... Logged in!\n",
            "==> SYST ... done.    ==> PWD ... done.\n",
            "==> TYPE I ... done.  ==> CWD (1) /pub/release-106/gtf/cavia_porcellus ... done.\n",
            "==> SIZE Cavia_porcellus.Cavpor3.0.106.gtf.gz ... 10253271\n",
            "==> PASV ... done.    ==> RETR Cavia_porcellus.Cavpor3.0.106.gtf.gz ... done.\n",
            "Length: 10253271 (9.8M) (unauthoritative)\n",
            "\n",
            "Cavia_porcellus.Cav 100%[===================>]   9.78M  8.14MB/s    in 1.2s    \n",
            "\n",
            "2025-09-12 07:35:09 (8.14 MB/s) - ‘Cavia_porcellus.Cavpor3.0.106.gtf.gz’ saved [10253271]\n",
            "\n"
          ]
        }
      ]
    }
  ]
}